{
 "cells": [
  {
   "cell_type": "code",
   "execution_count": 54,
   "id": "1485707d",
   "metadata": {},
   "outputs": [
    {
     "name": "stdout",
     "output_type": "stream",
     "text": [
      "VideoObject(id='81321732691873177-9202946718063396738', model='cogvideox', video_result=None, task_status='PROCESSING', request_id='-9202946718063396739')\n"
     ]
    }
   ],
   "source": [
    "import time\n",
    "from zhipuai import ZhipuAI\n",
    "\n",
    "client = ZhipuAI(api_key=\"82618e9e10cc11b3c7a0124147cc2c3d.Gqm38H77t6SUMT2g\")\n",
    "\n",
    "response = client.videos.generations(\n",
    "model=\"cogvideox\",\n",
    "image_url='https://pic.ibaotu.com/t3/01/15/53/47s888piCx6Q20.jpg-0.jpg!wwuo340',\n",
    "prompt=\"添加下雪的效果。\"\n",
    ")\n",
    "print(response)\n",
    "\n"
   ]
  },
  {
   "cell_type": "code",
   "execution_count": 66,
   "id": "52cdea1e",
   "metadata": {},
   "outputs": [
    {
     "name": "stdout",
     "output_type": "stream",
     "text": [
      "VideoObject(id=None, model='cogvideox', video_result=[VideoResult(url='https://aigc-files.bigmodel.cn/api/cogvideo/0801df6c-ad2a-11ef-96bb-e63bd27113c0_0.mp4', cover_image_url='https://aigc-files.bigmodel.cn/api/cogvideo/0801df6c-ad2a-11ef-96bb-e63bd27113c0_cover_0.jpeg')], task_status='SUCCESS', request_id='-9202946718063396739')\n"
     ]
    }
   ],
   "source": [
    "response = client.videos.retrieve_videos_result(\n",
    "    id=\"81321732691873177-9202946718063396738\"\n",
    ")\n",
    "print(response)"
   ]
  },
  {
   "cell_type": "code",
   "execution_count": null,
   "id": "4ec15ba2",
   "metadata": {},
   "outputs": [],
   "source": []
  },
  {
   "cell_type": "code",
   "execution_count": 68,
   "id": "2d40ce01",
   "metadata": {},
   "outputs": [],
   "source": [
    "import os\n",
    "from zhipuai import ZhipuAI\n",
    "import base64 #导入base64库，用于将视频文件编码成base64字符串格式\n",
    "os. environ[\"ZHIPUAI_API_KEY\"]= \"82618e9e10cc11b3c7a0124147cc2c3d.Gqm38H77t6SUMT2g\"\n",
    "client = ZhipuAI()"
   ]
  },
  {
   "cell_type": "code",
   "execution_count": 77,
   "id": "89b1c0df",
   "metadata": {},
   "outputs": [
    {
     "name": "stdout",
     "output_type": "stream",
     "text": [
      "通常来说，视频理解的响应时间较长，需要等待数十秒......\n",
      "CompletionMessage(content='画面中，一个场馆内正在举办活动。上方有灯光在闪烁，观众席上的人们都在拿着手机拍摄。镜头切换，画面中出现了一个黑发女孩，她正举着手机拍摄。随后镜头向左移动，出现了一个穿着白色衣服的女孩，她也举起了手机拍摄。', role='assistant', tool_calls=None)\n"
     ]
    }
   ],
   "source": [
    "video_path = r\"C:\\Users\\admin\\Downloads\\1371167359.mp4\" # 设置视频文件的路径\n",
    "with open(video_path, 'rb') as video_file: # 以“二进制读”模式打开视频文件\n",
    "    video_base = base64.b64encode(video_file.read()).decode('utf-8') # 把视频文件编码成智谱支持的video_base64字符串，再解码成utf-8格式\n",
    "\n",
    "print(\"通常来说，视频理解的响应时间较长，需要等待数十秒......\")\n",
    "\n",
    "response = client.chat.completions.create( # 直接调补全接口\n",
    "model=\"glm-4v-plus\", # 设置智谱具体大模型，glm-4v-plus支持视频理解\n",
    "temperature=0.0, # 设置温度参数，控制生成文本的随机性，0.0表示不随机，输出最可能的文本\n",
    "top_p=0, # 设置top_p参数，控制生成文本的多样性，0表示不使用此参数\n",
    "messages=[{ # 设置消息列表\n",
    "\"role\": \"user\", # 指定消息的角色为用户\n",
    "\"content\": [{ # 定义消息内容列表\n",
    "\"type\": \"video_url\", # 设置视频链接\n",
    "\"video_url\": {\"url\": video_base} # 将编码后的视频以base64字符串形式作为链接\n",
    "}, {\n",
    "\"type\": \"text\", # 设置提问/提示词类型为文本\n",
    "\"text\": \"请仔细描述这个视频的环境\" # 设置提问/提示词\n",
    "}]\n",
    "}]\n",
    ")\n",
    "\n",
    "print(response.choices[0].message) # 输出回答列表中的第一个选项中的消息"
   ]
  },
  {
   "cell_type": "code",
   "execution_count": null,
   "id": "b0e16888",
   "metadata": {},
   "outputs": [],
   "source": []
  }
 ],
 "metadata": {
  "kernelspec": {
   "display_name": "Python 3 (ipykernel)",
   "language": "python",
   "name": "python3"
  },
  "language_info": {
   "codemirror_mode": {
    "name": "ipython",
    "version": 3
   },
   "file_extension": ".py",
   "mimetype": "text/x-python",
   "name": "python",
   "nbconvert_exporter": "python",
   "pygments_lexer": "ipython3",
   "version": "3.9.7"
  }
 },
 "nbformat": 4,
 "nbformat_minor": 5
}
