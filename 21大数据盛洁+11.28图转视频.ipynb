{
 "cells": [
  {
   "cell_type": "code",
   "execution_count": 54,
   "id": "bf88c989",
   "metadata": {},
   "outputs": [
    {
     "name": "stdout",
     "output_type": "stream",
     "text": [
      "VideoObject(id='81321732691873177-9202946718063396738', model='cogvideox', video_result=None, task_status='PROCESSING', request_id='-9202946718063396739')\n"
     ]
    }
   ],
   "source": [
    "import time\n",
    "from zhipuai import ZhipuAI\n",
    "\n",
    "client = ZhipuAI(api_key=\"82618e9e10cc11b3c7a0124147cc2c3d.Gqm38H77t6SUMT2g\")\n",
    "\n",
    "response = client.videos.generations(\n",
    "model=\"cogvideox\",\n",
    "image_url='https://pic.ibaotu.com/t3/01/15/53/47s888piCx6Q20.jpg-0.jpg!wwuo340',\n",
    "prompt=\"添加下雪的效果。\"\n",
    ")\n",
    "print(response)\n",
    "\n"
   ]
  },
  {
   "cell_type": "code",
   "execution_count": 66,
   "id": "d1332c24",
   "metadata": {},
   "outputs": [
    {
     "name": "stdout",
     "output_type": "stream",
     "text": [
      "VideoObject(id=None, model='cogvideox', video_result=[VideoResult(url='https://aigc-files.bigmodel.cn/api/cogvideo/0801df6c-ad2a-11ef-96bb-e63bd27113c0_0.mp4', cover_image_url='https://aigc-files.bigmodel.cn/api/cogvideo/0801df6c-ad2a-11ef-96bb-e63bd27113c0_cover_0.jpeg')], task_status='SUCCESS', request_id='-9202946718063396739')\n"
     ]
    }
   ],
   "source": [
    "response = client.videos.retrieve_videos_result(\n",
    "    id=\"81321732691873177-9202946718063396738\"\n",
    ")\n",
    "print(response)"
   ]
  },
  {
   "cell_type": "code",
   "execution_count": null,
   "id": "1b94c7b7",
   "metadata": {},
   "outputs": [],
   "source": []
  },
  {
   "cell_type": "code",
   "execution_count": null,
   "id": "3eba956f",
   "metadata": {},
   "outputs": [],
   "source": []
  }
 ],
 "metadata": {
  "kernelspec": {
   "display_name": "Python 3 (ipykernel)",
   "language": "python",
   "name": "python3"
  },
  "language_info": {
   "codemirror_mode": {
    "name": "ipython",
    "version": 3
   },
   "file_extension": ".py",
   "mimetype": "text/x-python",
   "name": "python",
   "nbconvert_exporter": "python",
   "pygments_lexer": "ipython3",
   "version": "3.9.7"
  }
 },
 "nbformat": 4,
 "nbformat_minor": 5
}
