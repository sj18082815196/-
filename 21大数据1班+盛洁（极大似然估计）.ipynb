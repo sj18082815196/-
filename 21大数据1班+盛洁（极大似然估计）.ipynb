{
 "cells": [
  {
   "cell_type": "code",
   "execution_count": 5,
   "id": "143adeab-fefd-4a3d-a3de-39ca11421bf7",
   "metadata": {},
   "outputs": [
    {
     "name": "stdout",
     "output_type": "stream",
     "text": [
      "Estimated probabilities: [0.13000158 0.16000029 0.15000072 0.23999683 0.15000072 0.16999986]\n"
     ]
    }
   ],
   "source": [
    "import numpy as np\n",
    "\n",
    "n = 1000  # 试验次数\n",
    "p = np.array([1/6]*6)  # 假设每个面的概率都是1/6\n",
    "observations = np.random.multinomial(n, p)\n",
    "\n",
    "observations = np.random.multinomial(n, [1/6]*6, size=1)[0]\n",
    "\n",
    "# 初始化概率\n",
    "p = np.array([1/6]*6)\n",
    "learning_rate = 0.01\n",
    "\n",
    "# 梯度下降\n",
    "for epoch in range(1000):\n",
    "    gradient = np.zeros_like(p)\n",
    "    for i in range(6):\n",
    "        gradient[i] = (p[i] - observations[i] / n)\n",
    "    \n",
    "    # 更新概率\n",
    "    p -= learning_rate * gradient\n",
    "\n",
    "    # 确保概率和为1\n",
    "    p /= np.sum(p)\n",
    "\n",
    "# 输出估计的概率\n",
    "print(\"Estimated probabilities:\", p)"
   ]
  },
  {
   "cell_type": "code",
   "execution_count": null,
   "id": "e2119de7-8736-4d3b-9cc9-1d40d6d039cf",
   "metadata": {},
   "outputs": [],
   "source": []
  },
  {
   "cell_type": "code",
   "execution_count": null,
   "id": "9133b013-16ab-4e0b-ad7a-01f1815e524d",
   "metadata": {},
   "outputs": [],
   "source": []
  }
 ],
 "metadata": {
  "kernelspec": {
   "display_name": "Python 3 (ipykernel)",
   "language": "python",
   "name": "python3"
  },
  "language_info": {
   "codemirror_mode": {
    "name": "ipython",
    "version": 3
   },
   "file_extension": ".py",
   "mimetype": "text/x-python",
   "name": "python",
   "nbconvert_exporter": "python",
   "pygments_lexer": "ipython3",
   "version": "3.9.7"
  }
 },
 "nbformat": 4,
 "nbformat_minor": 5
}
