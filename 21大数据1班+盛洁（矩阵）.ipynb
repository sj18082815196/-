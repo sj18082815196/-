{
 "cells": [
  {
   "cell_type": "code",
   "execution_count": 2,
   "id": "aab7e471-42a0-47fc-bab2-5e5ae5fb7882",
   "metadata": {},
   "outputs": [
    {
     "name": "stdout",
     "output_type": "stream",
     "text": [
      "tensor([[1., 1., 1.],\n",
      "        [1., 1., 1.],\n",
      "        [1., 1., 1.]])\n"
     ]
    }
   ],
   "source": [
    "import torch\n",
    "\n",
    "# 定义向量 a 和 b\n",
    "a = torch.tensor([1.0, 1.0, 1.0], requires_grad=False)\n",
    "b = torch.tensor([1.0, 1.0, 1.0], requires_grad=False)\n",
    "\n",
    "# 定义 3x3 张量 X，初始值为 0\n",
    "X = torch.zeros((3, 3), requires_grad=True)\n",
    "\n",
    "# 定义函数 f\n",
    "def f(X):\n",
    "    return torch.dot(a, torch.exp(torch.matmul(X, b)))\n",
    "\n",
    "# 计算 f 对 X 的梯度\n",
    "f_value = f(X)\n",
    "f_value.backward()\n",
    "\n",
    "# 打印梯度矩阵\n",
    "print(X.grad)"
   ]
  },
  {
   "cell_type": "code",
   "execution_count": null,
   "id": "7538a8e4-c4cb-4093-85cd-314ee6e75512",
   "metadata": {},
   "outputs": [],
   "source": []
  }
 ],
 "metadata": {
  "kernelspec": {
   "display_name": "Python 3 (ipykernel)",
   "language": "python",
   "name": "python3"
  },
  "language_info": {
   "codemirror_mode": {
    "name": "ipython",
    "version": 3
   },
   "file_extension": ".py",
   "mimetype": "text/x-python",
   "name": "python",
   "nbconvert_exporter": "python",
   "pygments_lexer": "ipython3",
   "version": "3.9.7"
  }
 },
 "nbformat": 4,
 "nbformat_minor": 5
}
