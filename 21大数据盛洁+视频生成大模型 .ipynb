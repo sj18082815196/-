{
 "cells": [
  {
   "cell_type": "code",
   "execution_count": null,
   "id": "c2071bf2",
   "metadata": {},
   "outputs": [],
   "source": []
  },
  {
   "cell_type": "code",
   "execution_count": 24,
   "id": "20b1081b",
   "metadata": {},
   "outputs": [
    {
     "name": "stdout",
     "output_type": "stream",
     "text": [
      "VideoObject(id='37641732705469366-9202948298612044702', model='cogvideox', video_result=None, task_status='PROCESSING', request_id='-9202948298612044703')\n"
     ]
    }
   ],
   "source": [
    "from zhipuai import ZhipuAI\n",
    "client = ZhipuAI(api_key=\"226fb2133a571259cc4b9c5f3e0ae4d4.5P9J31WGgJQVGj6u\")\n",
    "\n",
    "response = client.videos.generations(\n",
    "    model=\"cogvideox\",\n",
    "    prompt=\"红衣女侠雨中舞剑，剑影交织雨丝，英气与柔美并存，留下青石小巷中难忘的红色背影。风雨中的剑舞，绘就一幅江湖女儿的坚韧画卷。雌雄莫辨的剑招、飘逸灵动的身姿，尽显女子力量与柔情。🌺挥洒汗水，铸就传奇，开启你的武侠征途，让梦想在刀光剑影中绽放！🌟\"\n",
    "\n",
    ")\n",
    "print(response)"
   ]
  },
  {
   "cell_type": "code",
   "execution_count": null,
   "id": "3a6e498c",
   "metadata": {},
   "outputs": [],
   "source": []
  },
  {
   "cell_type": "code",
   "execution_count": 29,
   "id": "7484bba1",
   "metadata": {},
   "outputs": [
    {
     "name": "stdout",
     "output_type": "stream",
     "text": [
      "VideoObject(id=None, model='cogvideox', video_result=[VideoResult(url='https://aigc-files.bigmodel.cn/api/cogvideo/90c3d366-acb5-11ef-8bda-8e43cc144737_0.mp4', cover_image_url='https://aigc-files.bigmodel.cn/api/cogvideo/90c3d366-acb5-11ef-8bda-8e43cc144737_cover_0.jpeg')], task_status='SUCCESS', request_id='-9202948298612044703')\n"
     ]
    }
   ],
   "source": [
    "from zhipuai import ZhipuAI\n",
    "client = ZhipuAI(api_key=\"226fb2133a571259cc4b9c5f3e0ae4d4.5P9J31WGgJQVGj6u\")\n",
    "\n",
    "response = client.videos.retrieve_videos_result(\n",
    "    id=\"37641732705469366-9202948298612044702\"\n",
    ")\n",
    "print(response)\n"
   ]
  },
  {
   "cell_type": "code",
   "execution_count": null,
   "id": "2c8e579f",
   "metadata": {},
   "outputs": [],
   "source": []
  },
  {
   "cell_type": "code",
   "execution_count": null,
   "id": "1150a6f1",
   "metadata": {},
   "outputs": [],
   "source": []
  }
 ],
 "metadata": {
  "kernelspec": {
   "display_name": "Python 3 (ipykernel)",
   "language": "python",
   "name": "python3"
  },
  "language_info": {
   "codemirror_mode": {
    "name": "ipython",
    "version": 3
   },
   "file_extension": ".py",
   "mimetype": "text/x-python",
   "name": "python",
   "nbconvert_exporter": "python",
   "pygments_lexer": "ipython3",
   "version": "3.9.13"
  }
 },
 "nbformat": 4,
 "nbformat_minor": 5
}
