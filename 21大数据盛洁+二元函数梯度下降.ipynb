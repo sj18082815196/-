{
 "cells": [
  {
   "cell_type": "code",
   "execution_count": 1,
   "id": "012fa29c",
   "metadata": {},
   "outputs": [
    {
     "data": {
      "image/png": "[encoded data removed]",
      "text/plain": [
       "<Figure size 432x288 with 1 Axes>"
      ]
     },
     "metadata": {
      "needs_background": "light"
     },
     "output_type": "display_data"
    },
    {
     "name": "stdout",
     "output_type": "stream",
     "text": [
      "Approximate minimum at x = 1.8066472079167137 with f(x) = 0.0008083993052370325\n"
     ]
    }
   ],
   "source": [
    "import numpy as np\n",
    "import matplotlib.pyplot as plt\n",
    "\n",
    "# 定义具有两个波谷的一元函数\n",
    "def f(x):\n",
    "    return np.exp(-5*(x-3)**2) + np.exp(-10*(x+1)**2 + 2)\n",
    "\n",
    "# 计算函数的梯度\n",
    "def df(x):\n",
    "    return -10 * (x-3) * np.exp(-5*(x-3)**2) - 20 * (x+1) * np.exp(-10*(x+1)**2 + 2)\n",
    "\n",
    "# 梯度下降算法\n",
    "def gradient_descent(x0, learning_rate, num_iterations):\n",
    "    x = x0\n",
    "    for i in range(num_iterations):\n",
    "        grad = df(x)\n",
    "        x = x - learning_rate * grad\n",
    "    return x\n",
    "\n",
    "# 参数设置\n",
    "x0 = np.random.uniform(-5, 5)  # 随机初始化\n",
    "learning_rate = 0.01  # 学习率\n",
    "num_iterations = 1000  # 迭代次数\n",
    "\n",
    "# 执行梯度下降算法\n",
    "x_min = gradient_descent(x0, learning_rate, num_iterations)\n",
    "\n",
    "# 绘制函数图像和梯度下降路径\n",
    "x_values = np.linspace(-5, 5, 400)\n",
    "y_values = f(x_values)\n",
    "plt.plot(x_values, y_values, label='f(x)')\n",
    "\n",
    "# 绘制梯度下降路径\n",
    "plt.scatter([x_min], [f(x_min)], color='red', label='Minimum (approx)')\n",
    "\n",
    "plt.legend()\n",
    "plt.show()\n",
    "\n",
    "print(f\"Approximate minimum at x = {x_min} with f(x) = {f(x_min)}\")"
   ]
  },
  {
   "cell_type": "code",
   "execution_count": null,
   "id": "6f99091c",
   "metadata": {},
   "outputs": [],
   "source": []
  }
 ],
 "metadata": {
  "kernelspec": {
   "display_name": "Python 3 (ipykernel)",
   "language": "python",
   "name": "python3"
  },
  "language_info": {
   "codemirror_mode": {
    "name": "ipython",
    "version": 3
   },
   "file_extension": ".py",
   "mimetype": "text/x-python",
   "name": "python",
   "nbconvert_exporter": "python",
   "pygments_lexer": "ipython3",
   "version": "3.9.7"
  }
 },
 "nbformat": 4,
 "nbformat_minor": 5
}
